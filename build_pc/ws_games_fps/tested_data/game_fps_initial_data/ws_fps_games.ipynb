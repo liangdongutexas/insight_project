{
 "cells": [
  {
   "cell_type": "markdown",
   "metadata": {
    "_uuid": "493a8231a448b2727bc7d2eb2f995bf6a6b0c5eb"
   },
   "source": [
    "# Importing Data"
   ]
  },
  {
   "cell_type": "code",
   "execution_count": 5,
   "metadata": {
    "_uuid": "a1b737b2491d22b501f4d53c70ab811ce1ce8471"
   },
   "outputs": [],
   "source": [
    "# import libraries\n",
    "from bs4 import BeautifulSoup\n",
    "import requests\n",
    "import time\n",
    "import random\n",
    "import numpy as np\n",
    "import pandas as pd\n",
    "import re\n",
    "import csv"
   ]
  },
  {
   "cell_type": "markdown",
   "metadata": {},
   "source": [
    "In this file, I will make the previous web scraping codes into a pipelin."
   ]
  },
  {
   "cell_type": "markdown",
   "metadata": {},
   "source": [
    "1. functionget_hyperlinks will created a csv file with the name: component_name_hyperlinks.csv. This file stores all the hyperlinks of each item in the search page of url from newegg website.\n",
    "\n",
    "   a. component_name is the name of the computer components i.e intel_cpu\n",
    "   \n",
    "   b. The url should be in the following form url = \"https://www.newegg.com/p/pl?N=100007671%20601306860&Page={}\"\n",
    "   \n",
    "   c. num_pages is the total number of pages to be web scraped in the searching page of the url at newegg website\n",
    "   \n",
    "2. "
   ]
  },
  {
   "cell_type": "markdown",
   "metadata": {},
   "source": [
    "## Web Scraping all Hyperlinks"
   ]
  },
  {
   "cell_type": "code",
   "execution_count": 3,
   "metadata": {},
   "outputs": [],
   "source": [
    "\n",
    "## create a csv table to store all the hyperlinks of CPU\n",
    "filename = \"games_fps_hyperlinks.csv\"\n",
    "f = open(filename, \"w\", encoding='utf-8')\n",
    "headers = \"game_name,hyperlink\\n\"\n",
    "f.write(headers)\n",
    "\n",
    "\n",
    "my_url = 'https://www.fpsbenchmark.com/'\n",
    "headers = {'User-Agent': 'Mozilla/5.0 (Macintosh; Intel Mac OS X 10_11_5) AppleWebKit/537.36 (KHTML, like Gecko) Chrome/50.0.2661.102 Safari/537.36'}\n",
    "result = requests.get(my_url, headers=headers)\n",
    "page_soup = BeautifulSoup(result.content, \"html.parser\")\n",
    "games = page_soup.find(\"div\",{'style':'margin:5px 0'})\n",
    "games_hyperlink=list(games.findAll('a'))\n",
    "\n",
    "for i in games_hyperlink:\n",
    "    f.write(i['href'][1:]+','+'https://www.fpsbenchmark.com'+i['href']+'\\n')\n",
    "f.close()\n",
    "\n"
   ]
  },
  {
   "cell_type": "code",
   "execution_count": null,
   "metadata": {},
   "outputs": [],
   "source": [
    "## all cpu specs will be stored in the list total_specs\n",
    "## then total_specs will be stored in a csv table\n",
    "games_fps=pd.read_csv(\"games_fps_hyperlinks.csv\")\n",
    "\n",
    "\n",
    "for i in range(len(games_fps['hyperlink'])):\n",
    "    url=games_fps['hyperlink'][i]\n",
    "    game_name=games_fps['game_name'][i]\n",
    "    \n",
    "    headers = {'User-Agent': 'Mozilla/5.0 (Macintosh; Intel Mac OS X 10_11_5) AppleWebKit/537.36 (KHTML, like Gecko) Chrome/50.0.2661.102 Safari/537.36'}\n",
    "    result = requests.get(url, headers=headers)\n",
    "    page_soup = BeautifulSoup(result.content, \"html.parser\")\n",
    "    \n",
    "    table_tag = page_soup.select(\"table\")[0]\n",
    "    tab_data = [[item.text for item in row_data.select(\"th,td\")]\n",
    "                    for row_data in table_tag.select(\"tr\")]\n",
    "\n",
    "\n",
    "    with open(game_name+'.csv','w',newline='') as f:\n",
    "        writer = csv.writer(f)\n",
    "        for data in tab_data:\n",
    "            writer.writerow(data)\n",
    "            print(' '.join(data))\n",
    "    print(i)\n",
    "\n",
    "    time.sleep(10+random.random())"
   ]
  },
  {
   "cell_type": "code",
   "execution_count": null,
   "metadata": {},
   "outputs": [],
   "source": []
  }
 ],
 "metadata": {
  "kernelspec": {
   "display_name": "Python 3",
   "language": "python",
   "name": "python3"
  },
  "language_info": {
   "codemirror_mode": {
    "name": "ipython",
    "version": 3
   },
   "file_extension": ".py",
   "mimetype": "text/x-python",
   "name": "python",
   "nbconvert_exporter": "python",
   "pygments_lexer": "ipython3",
   "version": "3.7.5"
  }
 },
 "nbformat": 4,
 "nbformat_minor": 4
}
