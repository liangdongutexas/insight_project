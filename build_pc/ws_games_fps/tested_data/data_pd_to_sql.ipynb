{
 "cells": [
  {
   "cell_type": "markdown",
   "metadata": {},
   "source": [
    "## This file is to covert the original data to sql format"
   ]
  },
  {
   "cell_type": "code",
   "execution_count": 5,
   "metadata": {},
   "outputs": [],
   "source": [
    "import pandas as pd\n",
    "import numpy as np\n",
    "import sqlite3\n",
    "import os"
   ]
  },
  {
   "cell_type": "code",
   "execution_count": 6,
   "metadata": {},
   "outputs": [],
   "source": [
    "def wide_to_long(game,cwd):\n",
    "    path=cwd+\"\\\\game_fps_initial_data\\\\{}.csv\".format(game)\n",
    "    game_pd=pd.read_csv(path)\n",
    "    game_pd=game_pd.set_index(' ').unstack().reset_index()\n",
    "    game_pd=game_pd.rename(columns={'level_0':'CPU',' ':'GPU',0:'FPS'})\n",
    "    game_pd['Game_Name']=game\n",
    "    return game_pd"
   ]
  },
  {
   "cell_type": "code",
   "execution_count": 7,
   "metadata": {},
   "outputs": [],
   "source": [
    "def buildsql():\n",
    "    total=pd.DataFrame(columns=['CPU','GPU','FPS'])\n",
    "    cwd = os.getcwd()\n",
    "    path_hyperlink=cwd+\"\\\\game_fps_initial_data\\\\games_fps_hyperlinks.csv\"\n",
    "    \n",
    "    for game in pd.read_csv(path_hyperlink)['game_name']:\n",
    "        game_pd=wide_to_long(game,cwd)\n",
    "        total=total.append(game_pd)    \n",
    "    total=total.reset_index(drop=True)\n",
    "\n",
    "    cnx = sqlite3.connect('games_fps_cpu_gpu.db')\n",
    "    total.to_sql(name='games_fps',con=cnx)\n",
    "    cnx.commit()"
   ]
  },
  {
   "cell_type": "code",
   "execution_count": 8,
   "metadata": {},
   "outputs": [
    {
     "name": "stderr",
     "output_type": "stream",
     "text": [
      "F:\\programs\\envs\\tf-gpu-2.0\\lib\\site-packages\\pandas\\core\\frame.py:7138: FutureWarning: Sorting because non-concatenation axis is not aligned. A future version\n",
      "of pandas will change to not sort by default.\n",
      "\n",
      "To accept the future behavior, pass 'sort=False'.\n",
      "\n",
      "To retain the current behavior and silence the warning, pass 'sort=True'.\n",
      "\n",
      "  sort=sort,\n"
     ]
    }
   ],
   "source": [
    "buildsql()"
   ]
  },
  {
   "cell_type": "code",
   "execution_count": 74,
   "metadata": {},
   "outputs": [],
   "source": [
    "def gpu_price():\n",
    "    cwd = os.getcwd()\n",
    "    cwd+=\"\\\\game_fps_initial_data\\\\gpu_price.csv\"\n",
    "    gpu_price=pd.read_csv(cwd)\n",
    "    gpu_price=gpu_price.drop(columns=['Unnamed: 0'])\n",
    "    gpu_price=gpu_price.unstack().to_frame()\n",
    "    gpu_price=gpu_price.reset_index()\n",
    "    gpu_price=gpu_price.drop(columns=['level_1'])\n",
    "    gpu_price=gpu_price.rename(columns={'level_0':'GPU', 0:'PRICE'})\n",
    "    \n",
    "    cnx = sqlite3.connect('games_fps_cpu_gpu.db')\n",
    "    gpu_price.to_sql(name='gpu_price',con=cnx)\n",
    "    cnx.commit()\n",
    "    cnx.close()"
   ]
  },
  {
   "cell_type": "code",
   "execution_count": 55,
   "metadata": {},
   "outputs": [],
   "source": []
  },
  {
   "cell_type": "code",
   "execution_count": 75,
   "metadata": {},
   "outputs": [],
   "source": []
  },
  {
   "cell_type": "code",
   "execution_count": 58,
   "metadata": {},
   "outputs": [],
   "source": []
  },
  {
   "cell_type": "code",
   "execution_count": 60,
   "metadata": {},
   "outputs": [],
   "source": []
  },
  {
   "cell_type": "code",
   "execution_count": 61,
   "metadata": {},
   "outputs": [],
   "source": []
  },
  {
   "cell_type": "code",
   "execution_count": 63,
   "metadata": {},
   "outputs": [],
   "source": []
  },
  {
   "cell_type": "code",
   "execution_count": 71,
   "metadata": {},
   "outputs": [],
   "source": []
  },
  {
   "cell_type": "code",
   "execution_count": 73,
   "metadata": {},
   "outputs": [],
   "source": []
  },
  {
   "cell_type": "code",
   "execution_count": null,
   "metadata": {},
   "outputs": [],
   "source": [
    "game_pd=game_pd.unstack()"
   ]
  },
  {
   "cell_type": "code",
   "execution_count": null,
   "metadata": {},
   "outputs": [],
   "source": [
    "game_pd=pd.DataFrame(game_pd)"
   ]
  },
  {
   "cell_type": "code",
   "execution_count": null,
   "metadata": {},
   "outputs": [],
   "source": [
    "game_pd.unstack().rename(columns={'0.00':'PRICE','Unnamed: 0': 'GPU'})"
   ]
  },
  {
   "cell_type": "code",
   "execution_count": null,
   "metadata": {},
   "outputs": [],
   "source": []
  },
  {
   "cell_type": "code",
   "execution_count": null,
   "metadata": {},
   "outputs": [],
   "source": [
    "game_pd=game_pd.iloc[:,1:].unstack()"
   ]
  },
  {
   "cell_type": "code",
   "execution_count": null,
   "metadata": {},
   "outputs": [],
   "source": [
    "game_pd.columns=['GPU','index','PRICE']"
   ]
  },
  {
   "cell_type": "code",
   "execution_count": null,
   "metadata": {},
   "outputs": [],
   "source": [
    "game_pd"
   ]
  },
  {
   "cell_type": "code",
   "execution_count": null,
   "metadata": {},
   "outputs": [],
   "source": [
    "game_pd[0,2]"
   ]
  },
  {
   "cell_type": "code",
   "execution_count": null,
   "metadata": {},
   "outputs": [],
   "source": [
    ".unstack().reset_index()"
   ]
  },
  {
   "cell_type": "code",
   "execution_count": null,
   "metadata": {},
   "outputs": [],
   "source": []
  },
  {
   "cell_type": "code",
   "execution_count": null,
   "metadata": {},
   "outputs": [],
   "source": [
    "b[0]"
   ]
  },
  {
   "cell_type": "code",
   "execution_count": null,
   "metadata": {},
   "outputs": [],
   "source": [
    "b.columns=['GPU','price']"
   ]
  },
  {
   "cell_type": "code",
   "execution_count": null,
   "metadata": {},
   "outputs": [],
   "source": [
    "nvidia_gpu=pd.read_csv('/home/liang/Dropbox/insight_project/build_pc/Nvidia_GPU_specs.csv')"
   ]
  },
  {
   "cell_type": "code",
   "execution_count": null,
   "metadata": {},
   "outputs": [],
   "source": [
    "nvidia_gpu[['price','GPU']]"
   ]
  },
  {
   "cell_type": "code",
   "execution_count": null,
   "metadata": {},
   "outputs": [],
   "source": [
    "gpu_price={}"
   ]
  },
  {
   "cell_type": "code",
   "execution_count": null,
   "metadata": {},
   "outputs": [],
   "source": [
    "for i in airmech_strike[' ']:\n",
    "    gpu_price[i]=None"
   ]
  },
  {
   "cell_type": "code",
   "execution_count": null,
   "metadata": {},
   "outputs": [],
   "source": [
    "gpu_price"
   ]
  },
  {
   "cell_type": "code",
   "execution_count": null,
   "metadata": {},
   "outputs": [],
   "source": [
    "gpu_price={'rtx 2080 Ti': 1229.99,\n",
    " 'rtx 2080': 669.99,\n",
    " 'gtx 1080 Ti': 1099.0,\n",
    " 'gtx Titan X': 1180.0,\n",
    " 'rtx 2070 super': 529.99,\n",
    " 'rtx 2070': 429.99,\n",
    " 'gtx 1080': 825.0,\n",
    " 'rtx 2060 super': 419.99,\n",
    " 'rtx 2060': 359.99,\n",
    " 'gtx 1070 Ti': 499.99,\n",
    " 'gtx 1070': 589.00,\n",
    " 'gtx 1660 Ti': 299.99,\n",
    " 'gtx 1660 super': 269.99,\n",
    " 'gtx 980 Ti': 510.00,\n",
    " 'gtx 1660': 202.99,\n",
    " 'gtx 1060 6G': 209.99,\n",
    " 'gtx 980': 475.0,\n",
    " 'gtx 1060 3G': 199.99,\n",
    " 'gtx 970': 445.0,\n",
    " 'gtx 1050 Ti': 169.99,\n",
    " 'gtx 1050': 159.99,\n",
    " 'rx 5700 xt': 419.00,\n",
    " 'rx 5700': 349.99,\n",
    " 'RX Vega 64': 389.99,\n",
    " 'rx 590': 199.99,\n",
    " 'RX 580': 189.99,\n",
    " 'RX 480': 380.00,\n",
    " 'RX 570': 129.99}"
   ]
  },
  {
   "cell_type": "code",
   "execution_count": null,
   "metadata": {},
   "outputs": [],
   "source": [
    "gpu_pd=pd.DataFrame(gpu_price,index=[0])"
   ]
  },
  {
   "cell_type": "code",
   "execution_count": null,
   "metadata": {},
   "outputs": [],
   "source": [
    "gpu_pd.to_csv('gpu_price.csv')"
   ]
  },
  {
   "cell_type": "code",
   "execution_count": null,
   "metadata": {},
   "outputs": [],
   "source": [
    "## merge all game's csv file into a single database"
   ]
  },
  {
   "cell_type": "code",
   "execution_count": null,
   "metadata": {},
   "outputs": [],
   "source": []
  },
  {
   "cell_type": "code",
   "execution_count": null,
   "metadata": {},
   "outputs": [],
   "source": [
    "## create a large csv file containing all the game fps information\n",
    "game_names=pd.read_csv('games_fps_hyperlinks.csv')['game_name']\n",
    "frames=[]\n",
    "for game_name in game_names:\n",
    "    game_fps=pd.read_csv(game_name+'.csv')\n",
    "    cpus="
   ]
  },
  {
   "cell_type": "code",
   "execution_count": null,
   "metadata": {},
   "outputs": [],
   "source": [
    "game_fps=pd.read_csv('csgo.csv')"
   ]
  },
  {
   "cell_type": "code",
   "execution_count": null,
   "metadata": {},
   "outputs": [],
   "source": [
    "game_fps.columns[1:]"
   ]
  },
  {
   "cell_type": "code",
   "execution_count": null,
   "metadata": {},
   "outputs": [],
   "source": []
  }
 ],
 "metadata": {
  "kernelspec": {
   "display_name": "Python 3",
   "language": "python",
   "name": "python3"
  },
  "language_info": {
   "codemirror_mode": {
    "name": "ipython",
    "version": 3
   },
   "file_extension": ".py",
   "mimetype": "text/x-python",
   "name": "python",
   "nbconvert_exporter": "python",
   "pygments_lexer": "ipython3",
   "version": "3.7.5"
  }
 },
 "nbformat": 4,
 "nbformat_minor": 4
}
