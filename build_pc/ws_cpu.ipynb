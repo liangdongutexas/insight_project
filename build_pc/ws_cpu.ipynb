{
 "cells": [
  {
   "cell_type": "markdown",
   "metadata": {
    "_uuid": "493a8231a448b2727bc7d2eb2f995bf6a6b0c5eb"
   },
   "source": [
    "# Importing Data"
   ]
  },
  {
   "cell_type": "code",
   "execution_count": 1,
   "metadata": {
    "_uuid": "a1b737b2491d22b501f4d53c70ab811ce1ce8471"
   },
   "outputs": [],
   "source": [
    "# import libraries\n",
    "from bs4 import BeautifulSoup\n",
    "from urllib import request\n",
    "import time\n",
    "import random\n",
    "import numpy as np\n",
    "import pandas as pd\n",
    "import re"
   ]
  },
  {
   "cell_type": "markdown",
   "metadata": {},
   "source": [
    "## CPU Hyperlinks Table"
   ]
  },
  {
   "cell_type": "code",
   "execution_count": 2,
   "metadata": {},
   "outputs": [
    {
     "data": {
      "text/plain": [
       "26"
      ]
     },
     "execution_count": 2,
     "metadata": {},
     "output_type": "execute_result"
    }
   ],
   "source": [
    "## We create a csv table to store all the hyperlinks of CPU\n",
    "filename = \"cpu_hyperlinks.csv\"\n",
    "f = open(filename, \"w\", encoding='utf-8')\n",
    "headers = \"product_detail,hyperlink\\n\"\n",
    "f.write(headers)"
   ]
  },
  {
   "cell_type": "markdown",
   "metadata": {},
   "source": [
    "## Web Scraping all Hyperlinks"
   ]
  },
  {
   "cell_type": "code",
   "execution_count": 3,
   "metadata": {
    "_uuid": "b53fb70f73016dbb0c13325798ea93ce9dc8cd68"
   },
   "outputs": [
    {
     "name": "stdout",
     "output_type": "stream",
     "text": [
      "1\n",
      "2\n",
      "3\n",
      "4\n",
      "5\n",
      "6\n",
      "7\n",
      "8\n",
      "9\n",
      "10\n",
      "11\n",
      "12\n",
      "13\n"
     ]
    }
   ],
   "source": [
    "# Scraping 100 pages from newegg\n",
    "\n",
    "for i in range(1, 14):\n",
    "    my_url = \"https://www.newegg.com/p/pl?N=100007671%20601306860&Page={}\".format(\n",
    "        i\n",
    "    )\n",
    "    uClient = request.urlopen(my_url)\n",
    "    page_html = uClient.read()\n",
    "    uClient.close()\n",
    "    page_soup = BeautifulSoup(page_html, \"html.parser\")\n",
    "    containers = page_soup.findAll(\"div\", {\"class\": \"item-container\"})\n",
    "    \n",
    "    for container in containers:\n",
    "        ## Find hyperlink that directs to the webpage of that particular product\n",
    "        hyperlink = list(container.children)[3]['href']\n",
    "        \n",
    "        product_detail = list(container.children)[3].img[\"alt\"].replace(\",\", \"  \")\n",
    "\n",
    "        \n",
    "        f.write(product_detail+\",\"+hyperlink+\"\\n\")\n",
    "        \n",
    "        time.sleep(random.random()+0.5)\n",
    "    time.sleep(10+random.random())\n",
    "    print(i)"
   ]
  },
  {
   "cell_type": "code",
   "execution_count": 5,
   "metadata": {},
   "outputs": [],
   "source": [
    "f.close()"
   ]
  },
  {
   "cell_type": "code",
   "execution_count": 4,
   "metadata": {},
   "outputs": [],
   "source": [
    "hyperlinks=pd.read_csv(\"cpu_hyperlinks.csv\")"
   ]
  },
  {
   "cell_type": "code",
   "execution_count": 37,
   "metadata": {},
   "outputs": [
    {
     "data": {
      "text/html": [
       "<div>\n",
       "<style scoped>\n",
       "    .dataframe tbody tr th:only-of-type {\n",
       "        vertical-align: middle;\n",
       "    }\n",
       "\n",
       "    .dataframe tbody tr th {\n",
       "        vertical-align: top;\n",
       "    }\n",
       "\n",
       "    .dataframe thead th {\n",
       "        text-align: right;\n",
       "    }\n",
       "</style>\n",
       "<table border=\"1\" class=\"dataframe\">\n",
       "  <thead>\n",
       "    <tr style=\"text-align: right;\">\n",
       "      <th></th>\n",
       "      <th>product_detail</th>\n",
       "      <th>hyperlink</th>\n",
       "    </tr>\n",
       "  </thead>\n",
       "  <tbody>\n",
       "    <tr>\n",
       "      <th>0</th>\n",
       "      <td>Intel Core i9-9900K Coffee Lake 8-Core   16-Th...</td>\n",
       "      <td>https://www.newegg.com/core-i9-9th-gen-intel-c...</td>\n",
       "    </tr>\n",
       "    <tr>\n",
       "      <th>1</th>\n",
       "      <td>Intel Core i7-9700K Coffee Lake 8-Core 3.6 GHz...</td>\n",
       "      <td>https://www.newegg.com/core-i7-9th-gen-intel-c...</td>\n",
       "    </tr>\n",
       "    <tr>\n",
       "      <th>2</th>\n",
       "      <td>Intel Core i7-9700KF Coffee Lake 8-Core 3.6 GH...</td>\n",
       "      <td>https://www.newegg.com/core-i7-9th-gen-intel-c...</td>\n",
       "    </tr>\n",
       "    <tr>\n",
       "      <th>3</th>\n",
       "      <td>Intel Core i5-9600KF Coffee Lake 6-Core 3.7 GH...</td>\n",
       "      <td>https://www.newegg.com/core-i5-9th-gen-intel-c...</td>\n",
       "    </tr>\n",
       "    <tr>\n",
       "      <th>4</th>\n",
       "      <td>Intel Core i3-8100 Coffee Lake Quad-Core 3.6 G...</td>\n",
       "      <td>https://www.newegg.com/core-i3-8th-gen-intel-c...</td>\n",
       "    </tr>\n",
       "  </tbody>\n",
       "</table>\n",
       "</div>"
      ],
      "text/plain": [
       "                                      product_detail  \\\n",
       "0  Intel Core i9-9900K Coffee Lake 8-Core   16-Th...   \n",
       "1  Intel Core i7-9700K Coffee Lake 8-Core 3.6 GHz...   \n",
       "2  Intel Core i7-9700KF Coffee Lake 8-Core 3.6 GH...   \n",
       "3  Intel Core i5-9600KF Coffee Lake 6-Core 3.7 GH...   \n",
       "4  Intel Core i3-8100 Coffee Lake Quad-Core 3.6 G...   \n",
       "\n",
       "                                           hyperlink  \n",
       "0  https://www.newegg.com/core-i9-9th-gen-intel-c...  \n",
       "1  https://www.newegg.com/core-i7-9th-gen-intel-c...  \n",
       "2  https://www.newegg.com/core-i7-9th-gen-intel-c...  \n",
       "3  https://www.newegg.com/core-i5-9th-gen-intel-c...  \n",
       "4  https://www.newegg.com/core-i3-8th-gen-intel-c...  "
      ]
     },
     "execution_count": 37,
     "metadata": {},
     "output_type": "execute_result"
    }
   ],
   "source": [
    "hyperlinks.head()"
   ]
  },
  {
   "cell_type": "code",
   "execution_count": 14,
   "metadata": {},
   "outputs": [
    {
     "data": {
      "text/plain": [
       "'https://www.newegg.com/core-i7-9th-gen-intel-core-i7-9700k/p/N82E16819117958'"
      ]
     },
     "execution_count": 14,
     "metadata": {},
     "output_type": "execute_result"
    }
   ],
   "source": [
    "hyperlinks['hyperlink'][1]"
   ]
  },
  {
   "cell_type": "code",
   "execution_count": 13,
   "metadata": {},
   "outputs": [],
   "source": [
    "hyperlinks.rename(columns={\"hyperlink \": \"hyperlink\"},inplace=True)"
   ]
  },
  {
   "cell_type": "markdown",
   "metadata": {},
   "source": [
    "## Here we start to create a table of specs"
   ]
  },
  {
   "cell_type": "code",
   "execution_count": 65,
   "metadata": {},
   "outputs": [],
   "source": [
    "## all cpu specs will be stored in the list total_specs\n",
    "## then total_specs will be stored in a csv table\n",
    "total_specs=[]\n",
    "i=0"
   ]
  },
  {
   "cell_type": "code",
   "execution_count": null,
   "metadata": {},
   "outputs": [],
   "source": [
    "for url in hyperlinks['hyperlink']:\n",
    "    uClient = request.urlopen(url)\n",
    "    page_html = uClient.read()\n",
    "    uClient.close()\n",
    "    page_soup = BeautifulSoup(page_html, \"lxml\")  \n",
    "    \n",
    "    Specs={}\n",
    "    specs = page_soup.find(\"div\", {\"id\": \"Specs\"})\n",
    "    fieldsets=specs.findAll(\"fieldset\")\n",
    "    for fieldset in fieldsets:\n",
    "        dls=fieldset.findAll(\"dl\")\n",
    "        for dl in dls:\n",
    "            Specs[dl.find(\"dt\").text]=dl.find(\"dd\").text\n",
    "\n",
    "    total_specs.append(Specs)\n",
    "    i+=1\n",
    "    print(i)\n",
    "    \n",
    "    time.sleep(10+random.random())"
   ]
  },
  {
   "cell_type": "code",
   "execution_count": 91,
   "metadata": {},
   "outputs": [
    {
     "data": {
      "text/plain": [
       "448"
      ]
     },
     "execution_count": 91,
     "metadata": {},
     "output_type": "execute_result"
    }
   ],
   "source": [
    "len(total_specs)"
   ]
  },
  {
   "cell_type": "code",
   "execution_count": null,
   "metadata": {},
   "outputs": [],
   "source": [
    "for cpu in total_specs:\n",
    "    print(len(cpu))"
   ]
  },
  {
   "cell_type": "code",
   "execution_count": 72,
   "metadata": {},
   "outputs": [],
   "source": [
    "## find the maximal number of header titles for the csv file\n",
    "headers=total_specs[0]\n",
    "for i in total_specs[1:]:\n",
    "    for j in i.keys():\n",
    "        if j not in headers:\n",
    "            headers[j]=None       "
   ]
  },
  {
   "cell_type": "code",
   "execution_count": 78,
   "metadata": {},
   "outputs": [],
   "source": [
    "headerstr=''\n",
    "for i in list(headers.keys()):\n",
    "    headerstr=headerstr+i+','\n",
    "headerstr=headerstr+'\\n'"
   ]
  },
  {
   "cell_type": "code",
   "execution_count": 79,
   "metadata": {},
   "outputs": [
    {
     "data": {
      "text/plain": [
       "'Brand,Processors Type,Series,Name,Model,CPU Socket Type,Core Name,# of Cores,# of Threads,Operating Frequency,Max Turbo Frequency,L3 Cache,Manufacturing Tech,64-Bit Support,Hyper-Threading Support,Memory Types,Memory Channel,Virtualization Technology Support,Integrated Graphics,Graphics Base Frequency,Graphics Max Dynamic Frequency,PCI Express Revision,Max Number of PCI Express Lanes,Thermal Design Power,Cooling Device,Date First Available,L2 Cache,Cooling Devices,Multimedia Instruction,Voltage,Options,DMI,Integrated Memory Controller Speed,QPI,FSB,L1 Cache,Hyper-Transport Support,\\n'"
      ]
     },
     "execution_count": 79,
     "metadata": {},
     "output_type": "execute_result"
    }
   ],
   "source": [
    "headerstr"
   ]
  },
  {
   "cell_type": "code",
   "execution_count": 113,
   "metadata": {},
   "outputs": [],
   "source": [
    "f = open(filename, \"w\")\n",
    "f.truncate()\n",
    "f.close()"
   ]
  },
  {
   "cell_type": "code",
   "execution_count": 114,
   "metadata": {},
   "outputs": [
    {
     "data": {
      "text/plain": [
       "589"
      ]
     },
     "execution_count": 114,
     "metadata": {},
     "output_type": "execute_result"
    }
   ],
   "source": [
    "## We create a csv table to store all the hyperlinks of CPU\n",
    "filename = \"cpu_specs.csv\"\n",
    "f = open(filename, \"w\", encoding='utf-8')\n",
    "f.write(headerstr)"
   ]
  },
  {
   "cell_type": "code",
   "execution_count": 115,
   "metadata": {},
   "outputs": [],
   "source": [
    "headers_list=list(headers.keys())\n",
    "for cpu in total_specs:\n",
    "    cpu_str=''\n",
    "    for col in headers_list:\n",
    "        cpu_str=cpu_str+str(cpu.get(col,'None')).replace(',',' ')+','\n",
    "    cpu_str=cpu_str[:-1]\n",
    "    cpu_str=cpu_str+'\\n'\n",
    "    f.write(cpu_str) "
   ]
  },
  {
   "cell_type": "code",
   "execution_count": 116,
   "metadata": {},
   "outputs": [],
   "source": [
    "f.close()"
   ]
  },
  {
   "cell_type": "code",
   "execution_count": null,
   "metadata": {},
   "outputs": [],
   "source": []
  }
 ],
 "metadata": {
  "kernelspec": {
   "display_name": "Python 3",
   "language": "python",
   "name": "python3"
  },
  "language_info": {
   "codemirror_mode": {
    "name": "ipython",
    "version": 3
   },
   "file_extension": ".py",
   "mimetype": "text/x-python",
   "name": "python",
   "nbconvert_exporter": "python",
   "pygments_lexer": "ipython3",
   "version": "3.7.5"
  }
 },
 "nbformat": 4,
 "nbformat_minor": 4
}
