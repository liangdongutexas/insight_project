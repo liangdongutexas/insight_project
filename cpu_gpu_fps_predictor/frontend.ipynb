{
 "cells": [
  {
   "cell_type": "code",
   "execution_count": 2,
   "metadata": {},
   "outputs": [],
   "source": [
    "import os\n",
    "import sqlite3\n",
    "import pandas as pd\n",
    "import streamlit as st"
   ]
  },
  {
   "cell_type": "code",
   "execution_count": 4,
   "metadata": {},
   "outputs": [],
   "source": [
    "def getpath():\n",
    "    ## get the path of prediction_data file\n",
    "    cwd = os.getcwd()\n",
    "    cw='/'.join(cwd.split('/'))\n",
    "    if cw:\n",
    "        path=cwd+'/prediction_data/games_fps_cpu_gpu.db'\n",
    "    else:\n",
    "        path=cwd+'\\\\prediction_data\\\\games_fps_cpu_gpu.db'\n",
    "    return path"
   ]
  },
  {
   "cell_type": "code",
   "execution_count": 5,
   "metadata": {},
   "outputs": [],
   "source": [
    "path=getpath()\n",
    "query='''SELECT DISTINCT Game_Name FROM games_fps'''\n",
    "cnx=sqlite3.connect(path)\n",
    "games=pd.read_sql(query,cnx)\n",
    "cnx.close()"
   ]
  },
  {
   "cell_type": "code",
   "execution_count": 6,
   "metadata": {},
   "outputs": [
    {
     "name": "stdout",
     "output_type": "stream",
     "text": [
      "You selected:  airmech-strike\n",
      "You selected:  airmech-strike\n",
      "You selected:  airmech-strike\n"
     ]
    }
   ],
   "source": [
    "game1=st.selectbox('Please select the first game you want to play',games['Game_Name'],key=1)\n",
    "print('You selected: ', game1)\n",
    "\n",
    "game2=st.selectbox('Please select the second game you want to play',games['Game_Name'],key=2)\n",
    "print('You selected: ', game2)\n",
    "\n",
    "game3=st.selectbox('Please select the third game you want to play',games['Game_Name'],key=3)\n",
    "print('You selected: ', game3)"
   ]
  },
  {
   "cell_type": "code",
   "execution_count": 7,
   "metadata": {},
   "outputs": [
    {
     "name": "stdin",
     "output_type": "stream",
     "text": [
      "Please input the budget you have in mind 700\n"
     ]
    }
   ],
   "source": [
    "budget=st.text_input('Please input the budget you have in mind')"
   ]
  },
  {
   "cell_type": "code",
   "execution_count": 36,
   "metadata": {},
   "outputs": [],
   "source": [
    "path=getpath()\n",
    "query='''SELECT DISTINCT a.CPU, a.GPU, b.PRICE+c.PRICE, \\\n",
    "      as total_price FROM games_fps as a, cpu_price as b,\\\n",
    "      gpu_price as c  where a.CPU=b.CPU and a.GPU=c.GPU \\\n",
    "      and (a.Game_Name='{}' or a.Game_Name='{}' or a.Game_Name='{}')  and a.FPS>60 and total_price<({}+50)\\\n",
    "      and total_price>({}-50)  ORDER BY total_price DESC'''.format(game1,game2,game3,budget,budget)\n",
    "cnx=sqlite3.connect(path)\n",
    "result=pd.read_sql(query,cnx)\n",
    "cnx.close()"
   ]
  },
  {
   "cell_type": "code",
   "execution_count": 38,
   "metadata": {},
   "outputs": [
    {
     "data": {
      "text/html": [
       "<div>\n",
       "<style scoped>\n",
       "    .dataframe tbody tr th:only-of-type {\n",
       "        vertical-align: middle;\n",
       "    }\n",
       "\n",
       "    .dataframe tbody tr th {\n",
       "        vertical-align: top;\n",
       "    }\n",
       "\n",
       "    .dataframe thead th {\n",
       "        text-align: right;\n",
       "    }\n",
       "</style>\n",
       "<table border=\"1\" class=\"dataframe\">\n",
       "  <thead>\n",
       "    <tr style=\"text-align: right;\">\n",
       "      <th></th>\n",
       "      <th>CPU</th>\n",
       "      <th>GPU</th>\n",
       "      <th>total_price</th>\n",
       "    </tr>\n",
       "  </thead>\n",
       "  <tbody>\n",
       "    <tr>\n",
       "      <th>0</th>\n",
       "      <td>Ryzen 5 1600x</td>\n",
       "      <td>gtx 1070 Ti</td>\n",
       "      <td>749.98</td>\n",
       "    </tr>\n",
       "    <tr>\n",
       "      <th>1</th>\n",
       "      <td>Ryzen 7 1700</td>\n",
       "      <td>rtx 2060 super</td>\n",
       "      <td>749.98</td>\n",
       "    </tr>\n",
       "    <tr>\n",
       "      <th>2</th>\n",
       "      <td>Ryzen 7 1700</td>\n",
       "      <td>rx 5700 xt</td>\n",
       "      <td>748.99</td>\n",
       "    </tr>\n",
       "    <tr>\n",
       "      <th>3</th>\n",
       "      <td>i5 8400</td>\n",
       "      <td>gtx 1070 Ti</td>\n",
       "      <td>746.47</td>\n",
       "    </tr>\n",
       "    <tr>\n",
       "      <th>4</th>\n",
       "      <td>i5 7600k</td>\n",
       "      <td>gtx 970</td>\n",
       "      <td>744.98</td>\n",
       "    </tr>\n",
       "  </tbody>\n",
       "</table>\n",
       "</div>"
      ],
      "text/plain": [
       "             CPU             GPU  total_price\n",
       "0  Ryzen 5 1600x     gtx 1070 Ti       749.98\n",
       "1   Ryzen 7 1700  rtx 2060 super       749.98\n",
       "2   Ryzen 7 1700      rx 5700 xt       748.99\n",
       "3        i5 8400     gtx 1070 Ti       746.47\n",
       "4       i5 7600k         gtx 970       744.98"
      ]
     },
     "execution_count": 38,
     "metadata": {},
     "output_type": "execute_result"
    }
   ],
   "source": [
    "st.dataframe(result.iloc[:5,:])"
   ]
  }
 ],
 "metadata": {
  "kernelspec": {
   "display_name": "Python 3",
   "language": "python",
   "name": "python3"
  },
  "language_info": {
   "codemirror_mode": {
    "name": "ipython",
    "version": 3
   },
   "file_extension": ".py",
   "mimetype": "text/x-python",
   "name": "python",
   "nbconvert_exporter": "python",
   "pygments_lexer": "ipython3",
   "version": "3.7.5"
  }
 },
 "nbformat": 4,
 "nbformat_minor": 4
}
