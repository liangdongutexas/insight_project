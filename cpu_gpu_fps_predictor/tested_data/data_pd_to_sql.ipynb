{
 "cells": [
  {
   "cell_type": "markdown",
   "metadata": {},
   "source": [
    "## This file is to covert the original data to sql format"
   ]
  },
  {
   "cell_type": "code",
   "execution_count": 5,
   "metadata": {},
   "outputs": [],
   "source": [
    "import pandas as pd\n",
    "import numpy as np\n",
    "import sqlite3\n",
    "import os"
   ]
  },
  {
   "cell_type": "code",
   "execution_count": 6,
   "metadata": {},
   "outputs": [],
   "source": [
    "def wide_to_long(game,cwd):\n",
    "    path=cwd+\"\\\\game_fps_initial_data\\\\{}.csv\".format(game)\n",
    "    game_pd=pd.read_csv(path)\n",
    "    game_pd=game_pd.set_index(' ').unstack().reset_index()\n",
    "    game_pd=game_pd.rename(columns={'level_0':'CPU',' ':'GPU',0:'FPS'})\n",
    "    game_pd['Game_Name']=game\n",
    "    return game_pd"
   ]
  },
  {
   "cell_type": "code",
   "execution_count": 7,
   "metadata": {},
   "outputs": [],
   "source": [
    "def buildsql():\n",
    "    total=pd.DataFrame(columns=['CPU','GPU','FPS'])\n",
    "    cwd = os.getcwd()\n",
    "    path_hyperlink=cwd+\"\\\\game_fps_initial_data\\\\games_fps_hyperlinks.csv\"\n",
    "    \n",
    "    for game in pd.read_csv(path_hyperlink)['game_name']:\n",
    "        game_pd=wide_to_long(game,cwd)\n",
    "        total=total.append(game_pd)    \n",
    "    total=total.reset_index(drop=True)\n",
    "\n",
    "    cnx = sqlite3.connect('games_fps_cpu_gpu.db')\n",
    "    total.to_sql(name='games_fps',con=cnx)\n",
    "    cnx.commit()\n",
    "    cnx.close()"
   ]
  },
  {
   "cell_type": "code",
   "execution_count": 8,
   "metadata": {},
   "outputs": [
    {
     "name": "stderr",
     "output_type": "stream",
     "text": [
      "F:\\programs\\envs\\tf-gpu-2.0\\lib\\site-packages\\pandas\\core\\frame.py:7138: FutureWarning: Sorting because non-concatenation axis is not aligned. A future version\n",
      "of pandas will change to not sort by default.\n",
      "\n",
      "To accept the future behavior, pass 'sort=False'.\n",
      "\n",
      "To retain the current behavior and silence the warning, pass 'sort=True'.\n",
      "\n",
      "  sort=sort,\n"
     ]
    }
   ],
   "source": [
    "buildsql()"
   ]
  },
  {
   "cell_type": "code",
   "execution_count": 74,
   "metadata": {},
   "outputs": [],
   "source": [
    "def gpu_price():\n",
    "    cwd = os.getcwd()\n",
    "    cwd+=\"\\\\game_fps_initial_data\\\\gpu_price.csv\"\n",
    "    gpu_price=pd.read_csv(cwd)\n",
    "    gpu_price=gpu_price.drop(columns=['Unnamed: 0'])\n",
    "    gpu_price=gpu_price.unstack().to_frame()\n",
    "    gpu_price=gpu_price.reset_index()\n",
    "    gpu_price=gpu_price.drop(columns=['level_1'])\n",
    "    gpu_price=gpu_price.rename(columns={'level_0':'GPU', 0:'PRICE'})\n",
    "    \n",
    "    cnx = sqlite3.connect('games_fps_cpu_gpu.db')\n",
    "    gpu_price.to_sql(name='gpu_price',con=cnx)\n",
    "    cnx.commit()\n",
    "    cnx.close()"
   ]
  },
  {
   "cell_type": "code",
   "execution_count": 5,
   "metadata": {},
   "outputs": [],
   "source": [
    "import os\n",
    "import pandas as pd"
   ]
  },
  {
   "cell_type": "code",
   "execution_count": 6,
   "metadata": {},
   "outputs": [],
   "source": [
    "cwd = os.getcwd()\n",
    "cwd+=\"\\\\game_fps_initial_data\\\\gpu_price.csv\"\n",
    "gpu_price=pd.read_csv(cwd)\n",
    "gpu_price=gpu_price.drop(columns=['Unnamed: 0'])\n",
    "gpu_price=gpu_price.unstack().to_frame()\n",
    "gpu_price=gpu_price.reset_index()\n",
    "gpu_price=gpu_price.drop(columns=['level_1'])\n",
    "gpu_price=gpu_price.rename(columns={'level_0':'GPU', 0:'PRICE'})"
   ]
  },
  {
   "cell_type": "code",
   "execution_count": 7,
   "metadata": {},
   "outputs": [
    {
     "data": {
      "text/html": [
       "<div>\n",
       "<style scoped>\n",
       "    .dataframe tbody tr th:only-of-type {\n",
       "        vertical-align: middle;\n",
       "    }\n",
       "\n",
       "    .dataframe tbody tr th {\n",
       "        vertical-align: top;\n",
       "    }\n",
       "\n",
       "    .dataframe thead th {\n",
       "        text-align: right;\n",
       "    }\n",
       "</style>\n",
       "<table border=\"1\" class=\"dataframe\">\n",
       "  <thead>\n",
       "    <tr style=\"text-align: right;\">\n",
       "      <th></th>\n",
       "      <th>GPU</th>\n",
       "      <th>PRICE</th>\n",
       "    </tr>\n",
       "  </thead>\n",
       "  <tbody>\n",
       "    <tr>\n",
       "      <th>0</th>\n",
       "      <td>rtx 2080 Ti</td>\n",
       "      <td>1229.99</td>\n",
       "    </tr>\n",
       "    <tr>\n",
       "      <th>1</th>\n",
       "      <td>rtx 2080</td>\n",
       "      <td>669.99</td>\n",
       "    </tr>\n",
       "    <tr>\n",
       "      <th>2</th>\n",
       "      <td>gtx 1080 Ti</td>\n",
       "      <td>1099.00</td>\n",
       "    </tr>\n",
       "    <tr>\n",
       "      <th>3</th>\n",
       "      <td>gtx Titan X</td>\n",
       "      <td>1180.00</td>\n",
       "    </tr>\n",
       "    <tr>\n",
       "      <th>4</th>\n",
       "      <td>rtx 2070 super</td>\n",
       "      <td>529.99</td>\n",
       "    </tr>\n",
       "    <tr>\n",
       "      <th>5</th>\n",
       "      <td>rtx 2070</td>\n",
       "      <td>429.99</td>\n",
       "    </tr>\n",
       "    <tr>\n",
       "      <th>6</th>\n",
       "      <td>gtx 1080</td>\n",
       "      <td>825.00</td>\n",
       "    </tr>\n",
       "    <tr>\n",
       "      <th>7</th>\n",
       "      <td>rtx 2060 super</td>\n",
       "      <td>419.99</td>\n",
       "    </tr>\n",
       "    <tr>\n",
       "      <th>8</th>\n",
       "      <td>rtx 2060</td>\n",
       "      <td>359.99</td>\n",
       "    </tr>\n",
       "    <tr>\n",
       "      <th>9</th>\n",
       "      <td>gtx 1070 Ti</td>\n",
       "      <td>499.99</td>\n",
       "    </tr>\n",
       "    <tr>\n",
       "      <th>10</th>\n",
       "      <td>gtx 1070</td>\n",
       "      <td>589.00</td>\n",
       "    </tr>\n",
       "    <tr>\n",
       "      <th>11</th>\n",
       "      <td>gtx 1660 Ti</td>\n",
       "      <td>299.99</td>\n",
       "    </tr>\n",
       "    <tr>\n",
       "      <th>12</th>\n",
       "      <td>gtx 1660 super</td>\n",
       "      <td>269.99</td>\n",
       "    </tr>\n",
       "    <tr>\n",
       "      <th>13</th>\n",
       "      <td>gtx 980 Ti</td>\n",
       "      <td>510.00</td>\n",
       "    </tr>\n",
       "    <tr>\n",
       "      <th>14</th>\n",
       "      <td>gtx 1660</td>\n",
       "      <td>202.99</td>\n",
       "    </tr>\n",
       "    <tr>\n",
       "      <th>15</th>\n",
       "      <td>gtx 1060 6G</td>\n",
       "      <td>209.99</td>\n",
       "    </tr>\n",
       "    <tr>\n",
       "      <th>16</th>\n",
       "      <td>gtx 980</td>\n",
       "      <td>475.00</td>\n",
       "    </tr>\n",
       "    <tr>\n",
       "      <th>17</th>\n",
       "      <td>gtx 1060 3G</td>\n",
       "      <td>199.99</td>\n",
       "    </tr>\n",
       "    <tr>\n",
       "      <th>18</th>\n",
       "      <td>gtx 970</td>\n",
       "      <td>445.00</td>\n",
       "    </tr>\n",
       "    <tr>\n",
       "      <th>19</th>\n",
       "      <td>gtx 1050 Ti</td>\n",
       "      <td>169.99</td>\n",
       "    </tr>\n",
       "    <tr>\n",
       "      <th>20</th>\n",
       "      <td>gtx 1050</td>\n",
       "      <td>159.99</td>\n",
       "    </tr>\n",
       "    <tr>\n",
       "      <th>21</th>\n",
       "      <td>rx 5700 xt</td>\n",
       "      <td>419.00</td>\n",
       "    </tr>\n",
       "    <tr>\n",
       "      <th>22</th>\n",
       "      <td>rx 5700</td>\n",
       "      <td>349.99</td>\n",
       "    </tr>\n",
       "    <tr>\n",
       "      <th>23</th>\n",
       "      <td>RX Vega 64</td>\n",
       "      <td>389.99</td>\n",
       "    </tr>\n",
       "    <tr>\n",
       "      <th>24</th>\n",
       "      <td>rx 590</td>\n",
       "      <td>199.99</td>\n",
       "    </tr>\n",
       "    <tr>\n",
       "      <th>25</th>\n",
       "      <td>RX 580</td>\n",
       "      <td>189.99</td>\n",
       "    </tr>\n",
       "    <tr>\n",
       "      <th>26</th>\n",
       "      <td>RX 480</td>\n",
       "      <td>380.00</td>\n",
       "    </tr>\n",
       "    <tr>\n",
       "      <th>27</th>\n",
       "      <td>RX 570</td>\n",
       "      <td>129.99</td>\n",
       "    </tr>\n",
       "  </tbody>\n",
       "</table>\n",
       "</div>"
      ],
      "text/plain": [
       "               GPU    PRICE\n",
       "0      rtx 2080 Ti  1229.99\n",
       "1         rtx 2080   669.99\n",
       "2      gtx 1080 Ti  1099.00\n",
       "3      gtx Titan X  1180.00\n",
       "4   rtx 2070 super   529.99\n",
       "5         rtx 2070   429.99\n",
       "6         gtx 1080   825.00\n",
       "7   rtx 2060 super   419.99\n",
       "8         rtx 2060   359.99\n",
       "9      gtx 1070 Ti   499.99\n",
       "10        gtx 1070   589.00\n",
       "11     gtx 1660 Ti   299.99\n",
       "12  gtx 1660 super   269.99\n",
       "13      gtx 980 Ti   510.00\n",
       "14        gtx 1660   202.99\n",
       "15     gtx 1060 6G   209.99\n",
       "16         gtx 980   475.00\n",
       "17     gtx 1060 3G   199.99\n",
       "18         gtx 970   445.00\n",
       "19     gtx 1050 Ti   169.99\n",
       "20        gtx 1050   159.99\n",
       "21      rx 5700 xt   419.00\n",
       "22         rx 5700   349.99\n",
       "23      RX Vega 64   389.99\n",
       "24          rx 590   199.99\n",
       "25          RX 580   189.99\n",
       "26          RX 480   380.00\n",
       "27          RX 570   129.99"
      ]
     },
     "execution_count": 7,
     "metadata": {},
     "output_type": "execute_result"
    }
   ],
   "source": [
    "gpu_price"
   ]
  },
  {
   "cell_type": "code",
   "execution_count": 60,
   "metadata": {},
   "outputs": [],
   "source": []
  },
  {
   "cell_type": "code",
   "execution_count": 61,
   "metadata": {},
   "outputs": [],
   "source": []
  },
  {
   "cell_type": "code",
   "execution_count": 63,
   "metadata": {},
   "outputs": [],
   "source": []
  },
  {
   "cell_type": "code",
   "execution_count": 71,
   "metadata": {},
   "outputs": [],
   "source": []
  },
  {
   "cell_type": "code",
   "execution_count": 73,
   "metadata": {},
   "outputs": [],
   "source": []
  },
  {
   "cell_type": "code",
   "execution_count": null,
   "metadata": {},
   "outputs": [],
   "source": [
    "game_pd=game_pd.unstack()"
   ]
  },
  {
   "cell_type": "code",
   "execution_count": null,
   "metadata": {},
   "outputs": [],
   "source": [
    "game_pd=pd.DataFrame(game_pd)"
   ]
  },
  {
   "cell_type": "code",
   "execution_count": null,
   "metadata": {},
   "outputs": [],
   "source": [
    "game_pd.unstack().rename(columns={'0.00':'PRICE','Unnamed: 0': 'GPU'})"
   ]
  },
  {
   "cell_type": "code",
   "execution_count": null,
   "metadata": {},
   "outputs": [],
   "source": []
  },
  {
   "cell_type": "code",
   "execution_count": null,
   "metadata": {},
   "outputs": [],
   "source": [
    "game_pd=game_pd.iloc[:,1:].unstack()"
   ]
  },
  {
   "cell_type": "code",
   "execution_count": null,
   "metadata": {},
   "outputs": [],
   "source": [
    "game_pd.columns=['GPU','index','PRICE']"
   ]
  },
  {
   "cell_type": "code",
   "execution_count": null,
   "metadata": {},
   "outputs": [],
   "source": [
    "game_pd"
   ]
  },
  {
   "cell_type": "code",
   "execution_count": null,
   "metadata": {},
   "outputs": [],
   "source": [
    "game_pd[0,2]"
   ]
  },
  {
   "cell_type": "code",
   "execution_count": null,
   "metadata": {},
   "outputs": [],
   "source": [
    ".unstack().reset_index()"
   ]
  },
  {
   "cell_type": "code",
   "execution_count": null,
   "metadata": {},
   "outputs": [],
   "source": []
  },
  {
   "cell_type": "code",
   "execution_count": null,
   "metadata": {},
   "outputs": [],
   "source": [
    "b[0]"
   ]
  },
  {
   "cell_type": "code",
   "execution_count": null,
   "metadata": {},
   "outputs": [],
   "source": [
    "b.columns=['GPU','price']"
   ]
  },
  {
   "cell_type": "code",
   "execution_count": null,
   "metadata": {},
   "outputs": [],
   "source": [
    "nvidia_gpu=pd.read_csv('/home/liang/Dropbox/insight_project/build_pc/Nvidia_GPU_specs.csv')"
   ]
  },
  {
   "cell_type": "code",
   "execution_count": null,
   "metadata": {},
   "outputs": [],
   "source": [
    "nvidia_gpu[['price','GPU']]"
   ]
  },
  {
   "cell_type": "code",
   "execution_count": null,
   "metadata": {},
   "outputs": [],
   "source": [
    "gpu_price={}"
   ]
  },
  {
   "cell_type": "code",
   "execution_count": null,
   "metadata": {},
   "outputs": [],
   "source": [
    "for i in airmech_strike[' ']:\n",
    "    gpu_price[i]=None"
   ]
  },
  {
   "cell_type": "code",
   "execution_count": null,
   "metadata": {},
   "outputs": [],
   "source": [
    "gpu_price"
   ]
  },
  {
   "cell_type": "code",
   "execution_count": null,
   "metadata": {},
   "outputs": [],
   "source": [
    "gpu_price={'rtx 2080 Ti': 1229.99,\n",
    " 'rtx 2080': 669.99,\n",
    " 'gtx 1080 Ti': 1099.0,\n",
    " 'gtx Titan X': 1180.0,\n",
    " 'rtx 2070 super': 529.99,\n",
    " 'rtx 2070': 429.99,\n",
    " 'gtx 1080': 825.0,\n",
    " 'rtx 2060 super': 419.99,\n",
    " 'rtx 2060': 359.99,\n",
    " 'gtx 1070 Ti': 499.99,\n",
    " 'gtx 1070': 589.00,\n",
    " 'gtx 1660 Ti': 299.99,\n",
    " 'gtx 1660 super': 269.99,\n",
    " 'gtx 980 Ti': 510.00,\n",
    " 'gtx 1660': 202.99,\n",
    " 'gtx 1060 6G': 209.99,\n",
    " 'gtx 980': 475.0,\n",
    " 'gtx 1060 3G': 199.99,\n",
    " 'gtx 970': 445.0,\n",
    " 'gtx 1050 Ti': 169.99,\n",
    " 'gtx 1050': 159.99,\n",
    " 'rx 5700 xt': 419.00,\n",
    " 'rx 5700': 349.99,\n",
    " 'RX Vega 64': 389.99,\n",
    " 'rx 590': 199.99,\n",
    " 'RX 580': 189.99,\n",
    " 'RX 480': 380.00,\n",
    " 'RX 570': 129.99}"
   ]
  },
  {
   "cell_type": "code",
   "execution_count": null,
   "metadata": {},
   "outputs": [],
   "source": [
    "gpu_pd=pd.DataFrame(gpu_price,index=[0])"
   ]
  },
  {
   "cell_type": "code",
   "execution_count": null,
   "metadata": {},
   "outputs": [],
   "source": [
    "gpu_pd.to_csv('gpu_price.csv')"
   ]
  },
  {
   "cell_type": "code",
   "execution_count": null,
   "metadata": {},
   "outputs": [],
   "source": [
    "## merge all game's csv file into a single database"
   ]
  },
  {
   "cell_type": "code",
   "execution_count": null,
   "metadata": {},
   "outputs": [],
   "source": []
  },
  {
   "cell_type": "code",
   "execution_count": null,
   "metadata": {},
   "outputs": [],
   "source": [
    "## create a large csv file containing all the game fps information\n",
    "game_names=pd.read_csv('games_fps_hyperlinks.csv')['game_name']\n",
    "frames=[]\n",
    "for game_name in game_names:\n",
    "    game_fps=pd.read_csv(game_name+'.csv')\n",
    "    cpus="
   ]
  },
  {
   "cell_type": "code",
   "execution_count": null,
   "metadata": {},
   "outputs": [],
   "source": [
    "game_fps=pd.read_csv('csgo.csv')"
   ]
  },
  {
   "cell_type": "code",
   "execution_count": null,
   "metadata": {},
   "outputs": [],
   "source": [
    "game_fps.columns[1:]"
   ]
  },
  {
   "cell_type": "code",
   "execution_count": null,
   "metadata": {},
   "outputs": [],
   "source": []
  }
 ],
 "metadata": {
  "kernelspec": {
   "display_name": "Python 3",
   "language": "python",
   "name": "python3"
  },
  "language_info": {
   "codemirror_mode": {
    "name": "ipython",
    "version": 3
   },
   "file_extension": ".py",
   "mimetype": "text/x-python",
   "name": "python",
   "nbconvert_exporter": "python",
   "pygments_lexer": "ipython3",
   "version": "3.7.5"
  }
 },
 "nbformat": 4,
 "nbformat_minor": 4
}
